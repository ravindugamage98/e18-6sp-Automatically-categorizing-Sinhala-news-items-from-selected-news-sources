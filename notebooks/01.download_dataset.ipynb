{
 "cells": [
  {
   "cell_type": "code",
   "execution_count": 1,
   "metadata": {},
   "outputs": [],
   "source": [
    "import numpy as np"
   ]
  },
  {
   "cell_type": "code",
   "execution_count": 2,
   "metadata": {},
   "outputs": [],
   "source": [
    "import json\n",
    "with open('../artifacts/kaggle.json', 'r') as file:\n",
    "    data = json.load(file)"
   ]
  },
  {
   "cell_type": "code",
   "execution_count": 3,
   "metadata": {},
   "outputs": [
    {
     "data": {
      "text/plain": [
       "{'username': 'nipundharmarathne', 'key': '93032e0cd6f1a51a9ca3603a8789c363'}"
      ]
     },
     "execution_count": 3,
     "metadata": {},
     "output_type": "execute_result"
    }
   ],
   "source": [
    "data"
   ]
  },
  {
   "cell_type": "code",
   "execution_count": 4,
   "metadata": {},
   "outputs": [
    {
     "name": "stdout",
     "output_type": "stream",
     "text": [
      "Requirement already satisfied: kaggle in c:\\6sp\\e18-6sp-automatically-categorizing-sinhala-news-items-from-selected-news-sources\\env\\lib\\site-packages (1.5.16)\n",
      "Requirement already satisfied: six>=1.10 in c:\\6sp\\e18-6sp-automatically-categorizing-sinhala-news-items-from-selected-news-sources\\env\\lib\\site-packages (from kaggle) (1.16.0)\n",
      "Requirement already satisfied: certifi in c:\\6sp\\e18-6sp-automatically-categorizing-sinhala-news-items-from-selected-news-sources\\env\\lib\\site-packages (from kaggle) (2023.7.22)\n",
      "Requirement already satisfied: python-dateutil in c:\\6sp\\e18-6sp-automatically-categorizing-sinhala-news-items-from-selected-news-sources\\env\\lib\\site-packages (from kaggle) (2.8.2)\n",
      "Requirement already satisfied: requests in c:\\6sp\\e18-6sp-automatically-categorizing-sinhala-news-items-from-selected-news-sources\\env\\lib\\site-packages (from kaggle) (2.31.0)\n",
      "Requirement already satisfied: tqdm in c:\\6sp\\e18-6sp-automatically-categorizing-sinhala-news-items-from-selected-news-sources\\env\\lib\\site-packages (from kaggle) (4.66.1)\n",
      "Requirement already satisfied: python-slugify in c:\\6sp\\e18-6sp-automatically-categorizing-sinhala-news-items-from-selected-news-sources\\env\\lib\\site-packages (from kaggle) (8.0.1)\n",
      "Requirement already satisfied: urllib3 in c:\\6sp\\e18-6sp-automatically-categorizing-sinhala-news-items-from-selected-news-sources\\env\\lib\\site-packages (from kaggle) (2.0.4)\n",
      "Requirement already satisfied: bleach in c:\\6sp\\e18-6sp-automatically-categorizing-sinhala-news-items-from-selected-news-sources\\env\\lib\\site-packages (from kaggle) (6.0.0)\n",
      "Requirement already satisfied: webencodings in c:\\6sp\\e18-6sp-automatically-categorizing-sinhala-news-items-from-selected-news-sources\\env\\lib\\site-packages (from bleach->kaggle) (0.5.1)\n",
      "Requirement already satisfied: text-unidecode>=1.3 in c:\\6sp\\e18-6sp-automatically-categorizing-sinhala-news-items-from-selected-news-sources\\env\\lib\\site-packages (from python-slugify->kaggle) (1.3)\n",
      "Requirement already satisfied: charset-normalizer<4,>=2 in c:\\6sp\\e18-6sp-automatically-categorizing-sinhala-news-items-from-selected-news-sources\\env\\lib\\site-packages (from requests->kaggle) (3.2.0)\n",
      "Requirement already satisfied: idna<4,>=2.5 in c:\\6sp\\e18-6sp-automatically-categorizing-sinhala-news-items-from-selected-news-sources\\env\\lib\\site-packages (from requests->kaggle) (3.4)\n",
      "Requirement already satisfied: colorama in c:\\6sp\\e18-6sp-automatically-categorizing-sinhala-news-items-from-selected-news-sources\\env\\lib\\site-packages (from tqdm->kaggle) (0.4.6)\n"
     ]
    }
   ],
   "source": [
    "!pip install kaggle"
   ]
  },
  {
   "cell_type": "code",
   "execution_count": 5,
   "metadata": {},
   "outputs": [],
   "source": [
    "import os\n",
    "os.environ['KAGGLE_USERNAME'] = data['username']\n",
    "os.environ['KAGGLE_KEY'] = data['key']"
   ]
  },
  {
   "cell_type": "code",
   "execution_count": 6,
   "metadata": {},
   "outputs": [
    {
     "name": "stdout",
     "output_type": "stream",
     "text": [
      "Requirement already satisfied: kaggle in c:\\6sp\\e18-6sp-automatically-categorizing-sinhala-news-items-from-selected-news-sources\\env\\lib\\site-packages (1.5.16)\n",
      "Requirement already satisfied: six>=1.10 in c:\\6sp\\e18-6sp-automatically-categorizing-sinhala-news-items-from-selected-news-sources\\env\\lib\\site-packages (from kaggle) (1.16.0)\n",
      "Requirement already satisfied: certifi in c:\\6sp\\e18-6sp-automatically-categorizing-sinhala-news-items-from-selected-news-sources\\env\\lib\\site-packages (from kaggle) (2023.7.22)\n",
      "Requirement already satisfied: python-dateutil in c:\\6sp\\e18-6sp-automatically-categorizing-sinhala-news-items-from-selected-news-sources\\env\\lib\\site-packages (from kaggle) (2.8.2)\n",
      "Requirement already satisfied: requests in c:\\6sp\\e18-6sp-automatically-categorizing-sinhala-news-items-from-selected-news-sources\\env\\lib\\site-packages (from kaggle) (2.31.0)\n",
      "Requirement already satisfied: tqdm in c:\\6sp\\e18-6sp-automatically-categorizing-sinhala-news-items-from-selected-news-sources\\env\\lib\\site-packages (from kaggle) (4.66.1)\n",
      "Requirement already satisfied: python-slugify in c:\\6sp\\e18-6sp-automatically-categorizing-sinhala-news-items-from-selected-news-sources\\env\\lib\\site-packages (from kaggle) (8.0.1)\n",
      "Requirement already satisfied: urllib3 in c:\\6sp\\e18-6sp-automatically-categorizing-sinhala-news-items-from-selected-news-sources\\env\\lib\\site-packages (from kaggle) (2.0.4)\n",
      "Requirement already satisfied: bleach in c:\\6sp\\e18-6sp-automatically-categorizing-sinhala-news-items-from-selected-news-sources\\env\\lib\\site-packages (from kaggle) (6.0.0)\n",
      "Requirement already satisfied: webencodings in c:\\6sp\\e18-6sp-automatically-categorizing-sinhala-news-items-from-selected-news-sources\\env\\lib\\site-packages (from bleach->kaggle) (0.5.1)\n",
      "Requirement already satisfied: text-unidecode>=1.3 in c:\\6sp\\e18-6sp-automatically-categorizing-sinhala-news-items-from-selected-news-sources\\env\\lib\\site-packages (from python-slugify->kaggle) (1.3)\n",
      "Requirement already satisfied: charset-normalizer<4,>=2 in c:\\6sp\\e18-6sp-automatically-categorizing-sinhala-news-items-from-selected-news-sources\\env\\lib\\site-packages (from requests->kaggle) (3.2.0)\n",
      "Requirement already satisfied: idna<4,>=2.5 in c:\\6sp\\e18-6sp-automatically-categorizing-sinhala-news-items-from-selected-news-sources\\env\\lib\\site-packages (from requests->kaggle) (3.4)\n",
      "Requirement already satisfied: colorama in c:\\6sp\\e18-6sp-automatically-categorizing-sinhala-news-items-from-selected-news-sources\\env\\lib\\site-packages (from tqdm->kaggle) (0.4.6)\n"
     ]
    }
   ],
   "source": [
    "!pip install kaggle"
   ]
  },
  {
   "cell_type": "code",
   "execution_count": 7,
   "metadata": {},
   "outputs": [],
   "source": [
    "from kaggle.api.kaggle_api_extended import KaggleApi\n",
    "api = KaggleApi()\n",
    "api.authenticate()"
   ]
  },
  {
   "cell_type": "code",
   "execution_count": 8,
   "metadata": {},
   "outputs": [],
   "source": [
    "api.dataset_download_files('yathindrak/sinhala-news-article-dataset', path='../artifacts/')"
   ]
  },
  {
   "cell_type": "code",
   "execution_count": null,
   "metadata": {},
   "outputs": [],
   "source": [
    "import zipfile\n",
    "with zipfile.ZipFile('../artifacts/sinhala-news-article-dataset.zip', 'r') as zip_ref:\n",
    "    zip_ref.extractall('../artifacts/')"
   ]
  },
  {
   "cell_type": "code",
   "execution_count": null,
   "metadata": {},
   "outputs": [],
   "source": []
  }
 ],
 "metadata": {
  "kernelspec": {
   "display_name": "Python 3 (ipykernel)",
   "language": "python",
   "name": "python3"
  },
  "language_info": {
   "codemirror_mode": {
    "name": "ipython",
    "version": 3
   },
   "file_extension": ".py",
   "mimetype": "text/x-python",
   "name": "python",
   "nbconvert_exporter": "python",
   "pygments_lexer": "ipython3",
   "version": "3.11.5"
  }
 },
 "nbformat": 4,
 "nbformat_minor": 2
}
